{
 "cells": [
  {
   "cell_type": "markdown",
   "id": "6946f90b-2b2b-400d-8c0d-2d350bc12bdf",
   "metadata": {},
   "source": [
    "# **DSCI 100 Project**"
   ]
  },
  {
   "cell_type": "code",
   "execution_count": null,
   "id": "1540c802-ada2-4360-a6d5-5cc3ba9a871d",
   "metadata": {},
   "outputs": [],
   "source": []
  }
 ],
 "metadata": {
  "kernelspec": {
   "display_name": "R",
   "language": "R",
   "name": "ir"
  },
  "language_info": {
   "codemirror_mode": "r",
   "file_extension": ".r",
   "mimetype": "text/x-r-source",
   "name": "R",
   "pygments_lexer": "r",
   "version": "4.3.3"
  }
 },
 "nbformat": 4,
 "nbformat_minor": 5
}
